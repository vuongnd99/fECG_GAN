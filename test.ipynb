{
 "cells": [
  {
   "cell_type": "code",
   "execution_count": 69,
   "metadata": {},
   "outputs": [],
   "source": [
    "import pyedflib\n",
    "import numpy as np\n",
    "import pandas as pd\n",
    "from scipy import signal\n",
    "import wfdb, mne"
   ]
  },
  {
   "cell_type": "code",
   "execution_count": 87,
   "metadata": {},
   "outputs": [],
   "source": [
    "# path = 'data/abdecg/r04.edf'\n",
    "path = 'data/non-invasive-fetal-ecg-database-1.0.0/ecgca102.edf'\n",
    "# record = mne.io.read_raw_edf(path, preload=True)\n",
    "# record.crop(tmin=10, tmax = record.times[-1] - 10)\n",
    "# record.resample(200)\n",
    "# raw_data = record.get_data()\n",
    "# f1 = pyedflib.EdfReader(path1)"
   ]
  },
  {
   "cell_type": "code",
   "execution_count": 91,
   "metadata": {},
   "outputs": [
    {
     "name": "stdout",
     "output_type": "stream",
     "text": [
      "read -1, less than 300000 requested!!!\n"
     ]
    },
    {
     "data": {
      "text/plain": [
       "array([0., 0., 0., ..., 0., 0., 0.])"
      ]
     },
     "execution_count": 91,
     "metadata": {},
     "output_type": "execute_result"
    }
   ],
   "source": [
    "f.readSignal(0)"
   ]
  },
  {
   "cell_type": "code",
   "execution_count": 47,
   "metadata": {},
   "outputs": [
    {
     "name": "stdout",
     "output_type": "stream",
     "text": [
      "read -1, less than 300000 requested!!!\n"
     ]
    },
    {
     "data": {
      "text/plain": [
       "array([0., 0., 0., ..., 0., 0., 0.])"
      ]
     },
     "execution_count": 47,
     "metadata": {},
     "output_type": "execute_result"
    }
   ],
   "source": [
    "n = f.signals_in_file\n",
    "size = f.getNSamples()[0]\n",
    "# size\n",
    "# fecg = np.zeros((1, size))\n",
    "f.readSignal(0)"
   ]
  },
  {
   "cell_type": "code",
   "execution_count": 62,
   "metadata": {},
   "outputs": [
    {
     "data": {
      "text/plain": [
       "[\"'Time and date'\",\n",
       " \"'Direct_1'\",\n",
       " \"'Abdomen_1'\",\n",
       " \"'Abdomen_2'\",\n",
       " \"'Abdomen_3'\",\n",
       " \"'Abdomen_4'\",\n",
       " \"'EDF Annotations'\"]"
      ]
     },
     "execution_count": 62,
     "metadata": {},
     "output_type": "execute_result"
    }
   ],
   "source": [
    "a = pd.read_csv('data/a&decgdb/r01.csv')\n",
    "cols = []\n",
    "for col in a.columns:\n",
    "    cols.append(col)\n",
    "cols"
   ]
  },
  {
   "cell_type": "code",
   "execution_count": 65,
   "metadata": {},
   "outputs": [
    {
     "ename": "KeyError",
     "evalue": "1",
     "output_type": "error",
     "traceback": [
      "\u001b[0;31m---------------------------------------------------------------------------\u001b[0m",
      "\u001b[0;31mKeyError\u001b[0m                                  Traceback (most recent call last)",
      "File \u001b[0;32m~/opt/anaconda3/envs/fecg/lib/python3.10/site-packages/pandas/core/indexes/base.py:3802\u001b[0m, in \u001b[0;36mIndex.get_loc\u001b[0;34m(self, key, method, tolerance)\u001b[0m\n\u001b[1;32m   3801\u001b[0m \u001b[39mtry\u001b[39;00m:\n\u001b[0;32m-> 3802\u001b[0m     \u001b[39mreturn\u001b[39;00m \u001b[39mself\u001b[39;49m\u001b[39m.\u001b[39;49m_engine\u001b[39m.\u001b[39;49mget_loc(casted_key)\n\u001b[1;32m   3803\u001b[0m \u001b[39mexcept\u001b[39;00m \u001b[39mKeyError\u001b[39;00m \u001b[39mas\u001b[39;00m err:\n",
      "File \u001b[0;32m~/opt/anaconda3/envs/fecg/lib/python3.10/site-packages/pandas/_libs/index.pyx:138\u001b[0m, in \u001b[0;36mpandas._libs.index.IndexEngine.get_loc\u001b[0;34m()\u001b[0m\n",
      "File \u001b[0;32m~/opt/anaconda3/envs/fecg/lib/python3.10/site-packages/pandas/_libs/index.pyx:165\u001b[0m, in \u001b[0;36mpandas._libs.index.IndexEngine.get_loc\u001b[0;34m()\u001b[0m\n",
      "File \u001b[0;32mpandas/_libs/hashtable_class_helper.pxi:5745\u001b[0m, in \u001b[0;36mpandas._libs.hashtable.PyObjectHashTable.get_item\u001b[0;34m()\u001b[0m\n",
      "File \u001b[0;32mpandas/_libs/hashtable_class_helper.pxi:5753\u001b[0m, in \u001b[0;36mpandas._libs.hashtable.PyObjectHashTable.get_item\u001b[0;34m()\u001b[0m\n",
      "\u001b[0;31mKeyError\u001b[0m: 1",
      "\nThe above exception was the direct cause of the following exception:\n",
      "\u001b[0;31mKeyError\u001b[0m                                  Traceback (most recent call last)",
      "Cell \u001b[0;32mIn[65], line 122\u001b[0m\n\u001b[1;32m    117\u001b[0m         \u001b[39mreturn\u001b[39;00m y\n\u001b[1;32m    120\u001b[0m test_data \u001b[39m=\u001b[39m DataUtils()\n\u001b[0;32m--> 122\u001b[0m test_data\u001b[39m.\u001b[39;49mreadData(\u001b[39m'\u001b[39;49m\u001b[39ma&decgdb\u001b[39;49m\u001b[39m'\u001b[39;49m)\n",
      "Cell \u001b[0;32mIn[65], line 60\u001b[0m, in \u001b[0;36mDataUtils.readData\u001b[0;34m(self, dataset, path)\u001b[0m\n\u001b[1;32m     58\u001b[0m \u001b[39mfor\u001b[39;00m i, file_path \u001b[39min\u001b[39;00m \u001b[39menumerate\u001b[39m(file_paths):\n\u001b[1;32m     59\u001b[0m     data \u001b[39m=\u001b[39m pd\u001b[39m.\u001b[39mread_csv(file_path)\n\u001b[0;32m---> 60\u001b[0m     fECG[:, :, i] \u001b[39m=\u001b[39m data[\u001b[39m1\u001b[39;49m]\u001b[39m.\u001b[39mT\n\u001b[1;32m     61\u001b[0m     \u001b[39mfor\u001b[39;00m j \u001b[39min\u001b[39;00m \u001b[39mrange\u001b[39m(\u001b[39m4\u001b[39m):\n\u001b[1;32m     62\u001b[0m         aECG[j, : , i] \u001b[39m=\u001b[39m data[j\u001b[39m+\u001b[39m\u001b[39m2\u001b[39m]\u001b[39m.\u001b[39mT \n",
      "File \u001b[0;32m~/opt/anaconda3/envs/fecg/lib/python3.10/site-packages/pandas/core/frame.py:3807\u001b[0m, in \u001b[0;36mDataFrame.__getitem__\u001b[0;34m(self, key)\u001b[0m\n\u001b[1;32m   3805\u001b[0m \u001b[39mif\u001b[39;00m \u001b[39mself\u001b[39m\u001b[39m.\u001b[39mcolumns\u001b[39m.\u001b[39mnlevels \u001b[39m>\u001b[39m \u001b[39m1\u001b[39m:\n\u001b[1;32m   3806\u001b[0m     \u001b[39mreturn\u001b[39;00m \u001b[39mself\u001b[39m\u001b[39m.\u001b[39m_getitem_multilevel(key)\n\u001b[0;32m-> 3807\u001b[0m indexer \u001b[39m=\u001b[39m \u001b[39mself\u001b[39;49m\u001b[39m.\u001b[39;49mcolumns\u001b[39m.\u001b[39;49mget_loc(key)\n\u001b[1;32m   3808\u001b[0m \u001b[39mif\u001b[39;00m is_integer(indexer):\n\u001b[1;32m   3809\u001b[0m     indexer \u001b[39m=\u001b[39m [indexer]\n",
      "File \u001b[0;32m~/opt/anaconda3/envs/fecg/lib/python3.10/site-packages/pandas/core/indexes/base.py:3804\u001b[0m, in \u001b[0;36mIndex.get_loc\u001b[0;34m(self, key, method, tolerance)\u001b[0m\n\u001b[1;32m   3802\u001b[0m     \u001b[39mreturn\u001b[39;00m \u001b[39mself\u001b[39m\u001b[39m.\u001b[39m_engine\u001b[39m.\u001b[39mget_loc(casted_key)\n\u001b[1;32m   3803\u001b[0m \u001b[39mexcept\u001b[39;00m \u001b[39mKeyError\u001b[39;00m \u001b[39mas\u001b[39;00m err:\n\u001b[0;32m-> 3804\u001b[0m     \u001b[39mraise\u001b[39;00m \u001b[39mKeyError\u001b[39;00m(key) \u001b[39mfrom\u001b[39;00m \u001b[39merr\u001b[39;00m\n\u001b[1;32m   3805\u001b[0m \u001b[39mexcept\u001b[39;00m \u001b[39mTypeError\u001b[39;00m:\n\u001b[1;32m   3806\u001b[0m     \u001b[39m# If we have a listlike key, _check_indexing_error will raise\u001b[39;00m\n\u001b[1;32m   3807\u001b[0m     \u001b[39m#  InvalidIndexError. Otherwise we fall through and re-raise\u001b[39;00m\n\u001b[1;32m   3808\u001b[0m     \u001b[39m#  the TypeError.\u001b[39;00m\n\u001b[1;32m   3809\u001b[0m     \u001b[39mself\u001b[39m\u001b[39m.\u001b[39m_check_indexing_error(key)\n",
      "\u001b[0;31mKeyError\u001b[0m: 1"
     ]
    }
   ],
   "source": [
    "import pyedflib\n",
    "import numpy as np\n",
    "from scipy import signal, io \n",
    "from scipy.signal import butter, filtfilt\n",
    "from sklearn.decomposition import FastICA\n",
    "from sklearn.preprocessing import scale\n",
    "import padasip as pa\n",
    "import pandas as pd\n",
    "import os\n",
    "\n",
    "class DataUtils:\n",
    "\n",
    "    def __init__(self) -> None:\n",
    "        self.dataset = [\"a&decgdb/\", \"nifecg/\", \"synt_ecg/\"]\n",
    "        self.record = '/RECORDS' # each dataset has a RECORDs file which contains file names\n",
    "    \"\"\"\n",
    "    Read data from edf files. 3 Datasets contains:\n",
    "    - Abdominal and Direct ECG: 5 signal files, each file contains:\n",
    "        - referenced fetal signals\n",
    "        - 4 channels of abdominal signals\n",
    "\n",
    "    - Non-Invasive Fetal ECG: each recording contains:\n",
    "        - 2 thoracic signals\n",
    "        - 3 or 4 abdominal signals\n",
    "\n",
    "    - Synthesized dataset: to be updated\n",
    "    \"\"\"\n",
    "    def readData(self, dataset, path='data/'):\n",
    "        \n",
    "        if dataset == 'nifecg':\n",
    "            dataset_path = path + dataset\n",
    "            fileNames = dataset_path + self.record \n",
    "            with open(fileNames, 'rb') as f:\n",
    "                files = f.readlines()\n",
    "            aECG = np.zeros((n-1, f.getNSamples()[0], len(files)))\n",
    "            fECG = np.zeros((1, f.getNSamples()[0]), len(files))\n",
    "            for i, file in enumerate(files):\n",
    "                signal_path = dataset_path + file[:-1]\n",
    "                f = pyedflib.EdfReader(signal_path)\n",
    "                n = f.signals_in_file                \n",
    "                fECG[0, :, i] = f.readSignal(0)\n",
    "                fECG[0, :, i] = scale(self.butter_bandpass_filter(fECG[0, :, i], 1, 100, 1000), axis=1)\n",
    "                for j in np.arange(1, n):\n",
    "                    aECG[j - 1, :, i] = f.readSignal(j)\n",
    "\n",
    "                aECG[:, :, i] = scale(self.butter_bandpass_filter(aECG[:, :, i], 1, 100, 1000), axis=1)\n",
    "                aECG[:, :, i] = signal.resample(aECG[:, :, i], int(aECG.shape[1] / 5), axis=1)\n",
    "                fECG[:, :, i] = signal.resample(fECG[:, :, i], int(fECG.shape[1] / 5), axis=1)\n",
    "            return aECG, fECG\n",
    "        elif dataset == 'a&decgdb':\n",
    "            dataset_path = path + dataset\n",
    "            file_paths = []\n",
    "            for fileName in os.listdir(dataset_path):\n",
    "                file_paths.append(os.path.join(dataset_path, fileName))\n",
    "            n = len(file_paths)\n",
    "            fECG = np.zeros((1, 10001, n))\n",
    "            aECG = np.zeros((4, 10001, n))\n",
    "            for i, file_path in enumerate(file_paths):\n",
    "                data = pd.read_csv(file_path)\n",
    "                fECG[:, :, i] = data[1].T\n",
    "                for j in range(4):\n",
    "                    aECG[j, : , i] = data[j+2].T \n",
    "                fECG[0, :, i] = scale(self.butter_bandpass_filter(fECG[0, :, i], 1, 100, 1000), axis=1)\n",
    "                aECG[:, :, i] = scale(self.butter_bandpass_filter(aECG[:, :, i], 1, 100, 1000), axis=1)\n",
    "                aECG[:, :, i] = signal.resample(aECG[:, :, i], int(aECG.shape[1] / 5), axis=1)\n",
    "                fECG[:, :, i] = signal.resample(fECG[:, :, i], int(fECG.shape[1] / 5), axis=1)\n",
    "            return aECG, fECG\n",
    "        # else:\n",
    "        #     dataset_path = path + 'fecgsyndb.mat'\n",
    "        #     f = io.loadmat(dataset_path)\n",
    "            \n",
    "            \n",
    "    def windowingSig(self, sig1, sig2, windowSize = 15):\n",
    "        signalLen = sig2.shape[1]\n",
    "        signalWindow1 = [sig1[:, int(i):int(i+windowSize)].transpose() for i in range(0, signalLen - windowSize, windowSize)]\n",
    "        signalWindow2 = [sig2[:, int(i):int(i+windowSize)].transpose() for i in range(0, signalLen - windowSize, windowSize)]\n",
    "        return signalWindow1, signalWindow2\n",
    "\n",
    "    def adaptFilter(self, src, ref):\n",
    "        f = pa.filters.FilterNLMS(n=3, mu=0.1, w='random')\n",
    "        for index, sig in enumerate(src):\n",
    "            try:\n",
    "                y, e, w = f.run(ref[index][:, 0], sig)\n",
    "                ref[index][:, 0] = e\n",
    "            except:\n",
    "                pass\n",
    "        return ref\n",
    "    \n",
    "    def calICA(self, sdSig, component=7):\n",
    "        ica = FastICA(n_components=component, max_iter=1000)\n",
    "        icaRes = []\n",
    "        for index, sig in enumerate(sdSig):\n",
    "            try:\n",
    "                icaSignal = np.array(ica.fit_transform(sig))\n",
    "                icaSignal = np.append(icaSignal, sig[:, range(2, 4)], axis=1)\n",
    "                icaRes.append(icaSignal)\n",
    "            except:\n",
    "                pass\n",
    "        return np.array(icaRes)\n",
    "\n",
    "    def createDelayRepetition(self, signal, numberDelay=4, delay=10):\n",
    "        signal = np.repeat(signal, numberDelay, axis=0)\n",
    "        for row in range(1, signal.shape[0]):\n",
    "            signal[row, :] = np.roll(signal[row, :], shift=delay*row)\n",
    "        return signal\n",
    "\n",
    "    def __butter_bandpass(self, lowcut, highcut, fs, order=5):\n",
    "        nyq = 0.5 * fs\n",
    "        low = lowcut / nyq\n",
    "        high = highcut / nyq\n",
    "        b, a = butter(order, [low, high], btype='band')\n",
    "        return b, a\n",
    "    \n",
    "    def butter_bandpass_filter(self, data, lowcut, highcut, fs, order=3, axis=1):\n",
    "        b, a = self.__butter_bandpass(lowcut, highcut, fs, order=order)\n",
    "        y = filtfilt(b, a, data, axis=axis)\n",
    "        return y\n",
    "\n",
    "\n",
    "test_data = DataUtils()\n",
    "\n",
    "test_data.readData('a&decgdb')"
   ]
  },
  {
   "cell_type": "code",
   "execution_count": 66,
   "metadata": {},
   "outputs": [],
   "source": [
    "import wfdb\n",
    "record = "
   ]
  }
 ],
 "metadata": {
  "kernelspec": {
   "display_name": "fecg",
   "language": "python",
   "name": "python3"
  },
  "language_info": {
   "codemirror_mode": {
    "name": "ipython",
    "version": 3
   },
   "file_extension": ".py",
   "mimetype": "text/x-python",
   "name": "python",
   "nbconvert_exporter": "python",
   "pygments_lexer": "ipython3",
   "version": "3.10.9"
  },
  "orig_nbformat": 4,
  "vscode": {
   "interpreter": {
    "hash": "93c0ec5017f1ad60f401db040b1a29638d2a1cbaa101702c762beeff9a62a670"
   }
  }
 },
 "nbformat": 4,
 "nbformat_minor": 2
}
