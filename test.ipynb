{
 "cells": [
  {
   "cell_type": "code",
   "execution_count": 2,
   "metadata": {},
   "outputs": [],
   "source": [
    "import pyedflib\n",
    "import numpy as np\n",
    "import pandas as pd\n",
    "from scipy.signal import stft\n",
    "import wfdb, mne\n",
    "import matplotlib.pyplot as plt\n",
    "import cv2\n",
    "import os\n",
    "import librosa.display\n",
    "import math"
   ]
  },
  {
   "cell_type": "code",
   "execution_count": 3,
   "metadata": {},
   "outputs": [
    {
     "name": "stdout",
     "output_type": "stream",
     "text": [
      "Extracting EDF parameters from /Users/vuongnguyen/Documents/Papers/FetalECG/Code/fECG_GAN/data/abdominal-and-direct-fetal-ecg-database-1.0.0/r04.edf...\n",
      "EDF file detected\n",
      "Setting channel info structure...\n",
      "Creating raw.info structure...\n",
      "Reading 0 ... 299999  =      0.000 ...   299.999 secs...\n"
     ]
    }
   ],
   "source": [
    "path = 'data/abdominal-and-direct-fetal-ecg-database-1.0.0/r04.edf'\n",
    "# path = 'data/non-invasive-fetal-ecg-database-1.0.0/ecgca102.edf'\n",
    "record = mne.io.read_raw_edf(path, preload=True)\n",
    "# record.crop(tmin=10, tmax = record.times[-1] - 10)\n",
    "# record.resample(200)\n",
    "# plt.plot(spec, color='rainbow')\n"
   ]
  },
  {
   "cell_type": "code",
   "execution_count": 16,
   "metadata": {},
   "outputs": [
    {
     "ename": "FileNotFoundError",
     "evalue": "[Errno 2] No such file or directory: '/Users/vuongnguyen/Documents/Papers/FetalECG/Code/fECG_GAN/data/non-invasive-fetal-ecg-database-1.0.0/ecgca102.edf.qrs.hea'",
     "output_type": "error",
     "traceback": [
      "\u001b[0;31m---------------------------------------------------------------------------\u001b[0m",
      "\u001b[0;31mFileNotFoundError\u001b[0m                         Traceback (most recent call last)",
      "Cell \u001b[0;32mIn[16], line 7\u001b[0m\n\u001b[1;32m      4\u001b[0m file_path \u001b[39m=\u001b[39m \u001b[39m'\u001b[39m\u001b[39mdata/non-invasive-fetal-ecg-database-1.0.0/ecgca102.edf.qrs\u001b[39m\u001b[39m'\u001b[39m\n\u001b[1;32m      6\u001b[0m \u001b[39m# Read the signal and annotation data from the file\u001b[39;00m\n\u001b[0;32m----> 7\u001b[0m signal, fields \u001b[39m=\u001b[39m wfdb\u001b[39m.\u001b[39;49mrdrecord(file_path)\n\u001b[1;32m      8\u001b[0m \u001b[39m# annotation = wfdb.rdann(file_path, 'qrs')\u001b[39;00m\n\u001b[1;32m      9\u001b[0m \n\u001b[1;32m     10\u001b[0m \u001b[39m# Print the fields (metadata) associated with the signal data\u001b[39;00m\n\u001b[0;32m   (...)\u001b[0m\n\u001b[1;32m     17\u001b[0m \u001b[39m# print(annotation.sample)\u001b[39;00m\n\u001b[1;32m     18\u001b[0m \u001b[39m# print(annotation.symbol)\u001b[39;00m\n\u001b[1;32m     19\u001b[0m \u001b[39mprint\u001b[39m(record\u001b[39m.\u001b[39m\u001b[39m__dict__\u001b[39m)\n",
      "File \u001b[0;32m~/opt/anaconda3/envs/fecg/lib/python3.10/site-packages/wfdb/io/record.py:2034\u001b[0m, in \u001b[0;36mrdrecord\u001b[0;34m(record_name, sampfrom, sampto, channels, physical, pn_dir, m2s, smooth_frames, ignore_skew, return_res, force_channels, channel_names, warn_empty)\u001b[0m\n\u001b[1;32m   2029\u001b[0m     dir_list \u001b[39m=\u001b[39m pn_dir\u001b[39m.\u001b[39msplit(\u001b[39m\"\u001b[39m\u001b[39m/\u001b[39m\u001b[39m\"\u001b[39m)\n\u001b[1;32m   2030\u001b[0m     pn_dir \u001b[39m=\u001b[39m posixpath\u001b[39m.\u001b[39mjoin(\n\u001b[1;32m   2031\u001b[0m         dir_list[\u001b[39m0\u001b[39m], download\u001b[39m.\u001b[39mget_version(dir_list[\u001b[39m0\u001b[39m]), \u001b[39m*\u001b[39mdir_list[\u001b[39m1\u001b[39m:]\n\u001b[1;32m   2032\u001b[0m     )\n\u001b[0;32m-> 2034\u001b[0m record \u001b[39m=\u001b[39m rdheader(record_name, pn_dir\u001b[39m=\u001b[39;49mpn_dir, rd_segments\u001b[39m=\u001b[39;49m\u001b[39mFalse\u001b[39;49;00m)\n\u001b[1;32m   2036\u001b[0m \u001b[39m# Set defaults for sampto and channels input variables\u001b[39;00m\n\u001b[1;32m   2037\u001b[0m \u001b[39mif\u001b[39;00m sampto \u001b[39mis\u001b[39;00m \u001b[39mNone\u001b[39;00m:\n\u001b[1;32m   2038\u001b[0m     \u001b[39m# If the header does not contain the signal length, figure it\u001b[39;00m\n\u001b[1;32m   2039\u001b[0m     \u001b[39m# out from the first dat file. This is only possible for single\u001b[39;00m\n\u001b[1;32m   2040\u001b[0m     \u001b[39m# segment records. If there are no signals, sig_len is 0.\u001b[39;00m\n",
      "File \u001b[0;32m~/opt/anaconda3/envs/fecg/lib/python3.10/site-packages/wfdb/io/record.py:1844\u001b[0m, in \u001b[0;36mrdheader\u001b[0;34m(record_name, pn_dir, rd_segments)\u001b[0m\n\u001b[1;32m   1842\u001b[0m file_name \u001b[39m=\u001b[39m \u001b[39mf\u001b[39m\u001b[39m\"\u001b[39m\u001b[39m{\u001b[39;00mbase_record_name\u001b[39m}\u001b[39;00m\u001b[39m.hea\u001b[39m\u001b[39m\"\u001b[39m\n\u001b[1;32m   1843\u001b[0m \u001b[39mif\u001b[39;00m pn_dir \u001b[39mis\u001b[39;00m \u001b[39mNone\u001b[39;00m:\n\u001b[0;32m-> 1844\u001b[0m     \u001b[39mwith\u001b[39;00m \u001b[39mopen\u001b[39;49m(\n\u001b[1;32m   1845\u001b[0m         os\u001b[39m.\u001b[39;49mpath\u001b[39m.\u001b[39;49mjoin(dir_name, file_name),\n\u001b[1;32m   1846\u001b[0m         \u001b[39m\"\u001b[39;49m\u001b[39mr\u001b[39;49m\u001b[39m\"\u001b[39;49m,\n\u001b[1;32m   1847\u001b[0m         encoding\u001b[39m=\u001b[39;49m\u001b[39m\"\u001b[39;49m\u001b[39mascii\u001b[39;49m\u001b[39m\"\u001b[39;49m,\n\u001b[1;32m   1848\u001b[0m         errors\u001b[39m=\u001b[39;49m\u001b[39m\"\u001b[39;49m\u001b[39mignore\u001b[39;49m\u001b[39m\"\u001b[39;49m,\n\u001b[1;32m   1849\u001b[0m     ) \u001b[39mas\u001b[39;00m f:\n\u001b[1;32m   1850\u001b[0m         header_content \u001b[39m=\u001b[39m f\u001b[39m.\u001b[39mread()\n\u001b[1;32m   1851\u001b[0m \u001b[39melse\u001b[39;00m:\n",
      "\u001b[0;31mFileNotFoundError\u001b[0m: [Errno 2] No such file or directory: '/Users/vuongnguyen/Documents/Papers/FetalECG/Code/fECG_GAN/data/non-invasive-fetal-ecg-database-1.0.0/ecgca102.edf.qrs.hea'"
     ]
    }
   ],
   "source": [
    "import wfdb\n",
    "\n",
    "# Set the path to your .qrs file\n",
    "file_path = 'data/non-invasive-fetal-ecg-database-1.0.0/ecgca102.edf.qrs'\n",
    "\n",
    "# Read the signal and annotation data from the file\n",
    "signal, fields = wfdb.rdrecord(file_path)\n",
    "# annotation = wfdb.rdann(file_path, 'qrs')\n",
    "\n",
    "# Print the fields (metadata) associated with the signal data\n",
    "# print(fields)\n",
    "\n",
    "# # Print the first 10 samples of the signal data\n",
    "# print(signal[:10])\n",
    "\n",
    "# # Print the annotation samples and symbols\n",
    "# print(annotation.sample)\n",
    "# print(annotation.symbol)\n",
    "print(record.__dict__)\n",
    "\n",
    "# Print the first 10 samples of the signal data\n",
    "print(record.p_signal[:10])"
   ]
  },
  {
   "cell_type": "code",
   "execution_count": 11,
   "metadata": {},
   "outputs": [
    {
     "ename": "NetFileNotFoundError",
     "evalue": "404 Error: Not Found for url: https://physionet.org/files/nifecgdb/1.0.0/ecgca102.edf.qrs.hea",
     "output_type": "error",
     "traceback": [
      "\u001b[0;31m---------------------------------------------------------------------------\u001b[0m",
      "\u001b[0;31mNetFileNotFoundError\u001b[0m                      Traceback (most recent call last)",
      "Cell \u001b[0;32mIn[11], line 2\u001b[0m\n\u001b[1;32m      1\u001b[0m file \u001b[39m=\u001b[39m \u001b[39m'\u001b[39m\u001b[39mecgca102.edf.qrs\u001b[39m\u001b[39m'\u001b[39m\n\u001b[0;32m----> 2\u001b[0m wfdb\u001b[39m.\u001b[39;49mrdrecord(file, pn_dir\u001b[39m=\u001b[39;49m\u001b[39m'\u001b[39;49m\u001b[39mnifecgdb\u001b[39;49m\u001b[39m'\u001b[39;49m)\n",
      "File \u001b[0;32m~/opt/anaconda3/envs/fecg/lib/python3.10/site-packages/wfdb/io/record.py:2034\u001b[0m, in \u001b[0;36mrdrecord\u001b[0;34m(record_name, sampfrom, sampto, channels, physical, pn_dir, m2s, smooth_frames, ignore_skew, return_res, force_channels, channel_names, warn_empty)\u001b[0m\n\u001b[1;32m   2029\u001b[0m     dir_list \u001b[39m=\u001b[39m pn_dir\u001b[39m.\u001b[39msplit(\u001b[39m\"\u001b[39m\u001b[39m/\u001b[39m\u001b[39m\"\u001b[39m)\n\u001b[1;32m   2030\u001b[0m     pn_dir \u001b[39m=\u001b[39m posixpath\u001b[39m.\u001b[39mjoin(\n\u001b[1;32m   2031\u001b[0m         dir_list[\u001b[39m0\u001b[39m], download\u001b[39m.\u001b[39mget_version(dir_list[\u001b[39m0\u001b[39m]), \u001b[39m*\u001b[39mdir_list[\u001b[39m1\u001b[39m:]\n\u001b[1;32m   2032\u001b[0m     )\n\u001b[0;32m-> 2034\u001b[0m record \u001b[39m=\u001b[39m rdheader(record_name, pn_dir\u001b[39m=\u001b[39;49mpn_dir, rd_segments\u001b[39m=\u001b[39;49m\u001b[39mFalse\u001b[39;49;00m)\n\u001b[1;32m   2036\u001b[0m \u001b[39m# Set defaults for sampto and channels input variables\u001b[39;00m\n\u001b[1;32m   2037\u001b[0m \u001b[39mif\u001b[39;00m sampto \u001b[39mis\u001b[39;00m \u001b[39mNone\u001b[39;00m:\n\u001b[1;32m   2038\u001b[0m     \u001b[39m# If the header does not contain the signal length, figure it\u001b[39;00m\n\u001b[1;32m   2039\u001b[0m     \u001b[39m# out from the first dat file. This is only possible for single\u001b[39;00m\n\u001b[1;32m   2040\u001b[0m     \u001b[39m# segment records. If there are no signals, sig_len is 0.\u001b[39;00m\n",
      "File \u001b[0;32m~/opt/anaconda3/envs/fecg/lib/python3.10/site-packages/wfdb/io/record.py:1852\u001b[0m, in \u001b[0;36mrdheader\u001b[0;34m(record_name, pn_dir, rd_segments)\u001b[0m\n\u001b[1;32m   1850\u001b[0m         header_content \u001b[39m=\u001b[39m f\u001b[39m.\u001b[39mread()\n\u001b[1;32m   1851\u001b[0m \u001b[39melse\u001b[39;00m:\n\u001b[0;32m-> 1852\u001b[0m     header_content \u001b[39m=\u001b[39m download\u001b[39m.\u001b[39;49m_stream_header(file_name, pn_dir)\n\u001b[1;32m   1854\u001b[0m \u001b[39m# Separate comment and non-comment lines\u001b[39;00m\n\u001b[1;32m   1855\u001b[0m header_lines, comment_lines \u001b[39m=\u001b[39m header\u001b[39m.\u001b[39mparse_header_content(header_content)\n",
      "File \u001b[0;32m~/opt/anaconda3/envs/fecg/lib/python3.10/site-packages/wfdb/io/download.py:109\u001b[0m, in \u001b[0;36m_stream_header\u001b[0;34m(file_name, pn_dir)\u001b[0m\n\u001b[1;32m    107\u001b[0m \u001b[39m# Get the content of the remote file\u001b[39;00m\n\u001b[1;32m    108\u001b[0m \u001b[39mwith\u001b[39;00m _url\u001b[39m.\u001b[39mopenurl(url, \u001b[39m\"\u001b[39m\u001b[39mrb\u001b[39m\u001b[39m\"\u001b[39m) \u001b[39mas\u001b[39;00m f:\n\u001b[0;32m--> 109\u001b[0m     content \u001b[39m=\u001b[39m f\u001b[39m.\u001b[39;49mread()\n\u001b[1;32m    111\u001b[0m \u001b[39mreturn\u001b[39;00m content\u001b[39m.\u001b[39mdecode(\u001b[39m\"\u001b[39m\u001b[39miso-8859-1\u001b[39m\u001b[39m\"\u001b[39m)\n",
      "File \u001b[0;32m~/opt/anaconda3/envs/fecg/lib/python3.10/site-packages/wfdb/io/_url.py:581\u001b[0m, in \u001b[0;36mNetFile.read\u001b[0;34m(self, size)\u001b[0m\n\u001b[1;32m    578\u001b[0m \u001b[39melse\u001b[39;00m:\n\u001b[1;32m    579\u001b[0m     \u001b[39mraise\u001b[39;00m \u001b[39mValueError\u001b[39;00m(\u001b[39m\"\u001b[39m\u001b[39minvalid size: \u001b[39m\u001b[39m%r\u001b[39;00m\u001b[39m\"\u001b[39m \u001b[39m%\u001b[39m (size,))\n\u001b[0;32m--> 581\u001b[0m result \u001b[39m=\u001b[39m \u001b[39mb\u001b[39;49m\u001b[39m\"\u001b[39;49m\u001b[39m\"\u001b[39;49m\u001b[39m.\u001b[39;49mjoin(\u001b[39mself\u001b[39;49m\u001b[39m.\u001b[39;49m_read_range(start, end))\n\u001b[1;32m    582\u001b[0m \u001b[39mself\u001b[39m\u001b[39m.\u001b[39m_pos \u001b[39m+\u001b[39m\u001b[39m=\u001b[39m \u001b[39mlen\u001b[39m(result)\n\u001b[1;32m    583\u001b[0m \u001b[39mreturn\u001b[39;00m result\n",
      "File \u001b[0;32m~/opt/anaconda3/envs/fecg/lib/python3.10/site-packages/wfdb/io/_url.py:474\u001b[0m, in \u001b[0;36mNetFile._read_range\u001b[0;34m(self, start, end)\u001b[0m\n\u001b[1;32m    471\u001b[0m         req_end \u001b[39m=\u001b[39m req_start \u001b[39m+\u001b[39m buffer_size\n\u001b[1;32m    472\u001b[0m         buffer_store \u001b[39m=\u001b[39m \u001b[39mTrue\u001b[39;00m\n\u001b[0;32m--> 474\u001b[0m \u001b[39mwith\u001b[39;00m RangeTransfer(\u001b[39mself\u001b[39;49m\u001b[39m.\u001b[39;49m_current_url, req_start, req_end) \u001b[39mas\u001b[39;00m xfer:\n\u001b[1;32m    475\u001b[0m     \u001b[39m# Update current file URL.\u001b[39;00m\n\u001b[1;32m    476\u001b[0m     \u001b[39mself\u001b[39m\u001b[39m.\u001b[39m_current_url \u001b[39m=\u001b[39m xfer\u001b[39m.\u001b[39mresponse_url\n\u001b[1;32m    478\u001b[0m     \u001b[39m# If we requested a range but the server doesn't support\u001b[39;00m\n\u001b[1;32m    479\u001b[0m     \u001b[39m# random access, then unless buffering is disabled, save\u001b[39;00m\n\u001b[1;32m    480\u001b[0m     \u001b[39m# entire file in the buffer.\u001b[39;00m\n",
      "File \u001b[0;32m~/opt/anaconda3/envs/fecg/lib/python3.10/site-packages/wfdb/io/_url.py:168\u001b[0m, in \u001b[0;36mRangeTransfer.__init__\u001b[0;34m(self, url, start, end)\u001b[0m\n\u001b[1;32m    166\u001b[0m \u001b[39mself\u001b[39m\u001b[39m.\u001b[39m_content_iter \u001b[39m=\u001b[39m \u001b[39mself\u001b[39m\u001b[39m.\u001b[39m_response\u001b[39m.\u001b[39miter_content(\u001b[39m4096\u001b[39m)\n\u001b[1;32m    167\u001b[0m \u001b[39mtry\u001b[39;00m:\n\u001b[0;32m--> 168\u001b[0m     \u001b[39mself\u001b[39;49m\u001b[39m.\u001b[39;49m_parse_headers(method, \u001b[39mself\u001b[39;49m\u001b[39m.\u001b[39;49m_response)\n\u001b[1;32m    169\u001b[0m \u001b[39mexcept\u001b[39;00m \u001b[39mException\u001b[39;00m:\n\u001b[1;32m    170\u001b[0m     \u001b[39mself\u001b[39m\u001b[39m.\u001b[39mclose()\n",
      "File \u001b[0;32m~/opt/anaconda3/envs/fecg/lib/python3.10/site-packages/wfdb/io/_url.py:214\u001b[0m, in \u001b[0;36mRangeTransfer._parse_headers\u001b[0;34m(self, method, response)\u001b[0m\n\u001b[1;32m    212\u001b[0m     \u001b[39melse\u001b[39;00m:\n\u001b[1;32m    213\u001b[0m         \u001b[39mcls\u001b[39m \u001b[39m=\u001b[39m NetFileError\n\u001b[0;32m--> 214\u001b[0m     \u001b[39mraise\u001b[39;00m \u001b[39mcls\u001b[39m(\n\u001b[1;32m    215\u001b[0m         \u001b[39m\"\u001b[39m\u001b[39m%s\u001b[39;00m\u001b[39m Error: \u001b[39m\u001b[39m%s\u001b[39;00m\u001b[39m for url: \u001b[39m\u001b[39m%s\u001b[39;00m\u001b[39m\"\u001b[39m\n\u001b[1;32m    216\u001b[0m         \u001b[39m%\u001b[39m (response\u001b[39m.\u001b[39mstatus_code, response\u001b[39m.\u001b[39mreason, response\u001b[39m.\u001b[39murl),\n\u001b[1;32m    217\u001b[0m         url\u001b[39m=\u001b[39mresponse\u001b[39m.\u001b[39murl,\n\u001b[1;32m    218\u001b[0m         status_code\u001b[39m=\u001b[39mresponse\u001b[39m.\u001b[39mstatus_code,\n\u001b[1;32m    219\u001b[0m     )\n\u001b[1;32m    221\u001b[0m \u001b[39m# Parse the Content-Range if this is a partial response.\u001b[39;00m\n\u001b[1;32m    222\u001b[0m \u001b[39melif\u001b[39;00m response\u001b[39m.\u001b[39mstatus_code \u001b[39min\u001b[39;00m (\u001b[39m206\u001b[39m, \u001b[39m416\u001b[39m):\n",
      "\u001b[0;31mNetFileNotFoundError\u001b[0m: 404 Error: Not Found for url: https://physionet.org/files/nifecgdb/1.0.0/ecgca102.edf.qrs.hea"
     ]
    }
   ],
   "source": [
    "file = 'ecgca102.edf.qrs'\n",
    "wfdb.rdrecord(file, pn_dir='nifecgdb')"
   ]
  },
  {
   "cell_type": "code",
   "execution_count": 4,
   "metadata": {},
   "outputs": [
    {
     "name": "stderr",
     "output_type": "stream",
     "text": [
      "/var/folders/pj/0_7y5gws315gpcg31k717yr80000gn/T/ipykernel_39920/1402071928.py:47: UserWarning: Only one segment is calculated since parameter NFFT (=256) >= signal length (=250).\n",
      "  ax[0].specgram(e, Fs=1000, cmap='rainbow')\n",
      "/var/folders/pj/0_7y5gws315gpcg31k717yr80000gn/T/ipykernel_39920/1402071928.py:48: UserWarning: Only one segment is calculated since parameter NFFT (=256) >= signal length (=250).\n",
      "  ax[1].specgram(f, Fs=1000, cmap='rainbow')\n"
     ]
    },
    {
     "data": {
      "image/png": "[encoded data removed]",
      "text/plain": [
       "<Figure size 2000x1000 with 2 Axes>"
      ]
     },
     "metadata": {},
     "output_type": "display_data"
    }
   ],
   "source": [
    "raw_data = record.get_data(0)\n",
    "aecg = record.get_data(1)\n",
    "# a=raw_data[:250]\n",
    "# _, _, spec = stft(\n",
    "#     raw_data,\n",
    "#     fs = 1000,\n",
    "#     window='hamming',\n",
    "#     nperseg=36,\n",
    "#     noverlap=30,\n",
    "#     nfft=256\n",
    "# ) \n",
    "# spec = np.abs(spec)\n",
    "# plt.imshow(spec.T)\n",
    "# plt.show()\n",
    "\n",
    "b = raw_data[0, :]\n",
    "minx = min(b)\n",
    "maxx = max(b)\n",
    "minx, maxx\n",
    "norm_data = [(2*(val - minx) / (maxx - minx) - 1) for val in raw_data]\n",
    "\n",
    "g = aecg[0, :]\n",
    "ming = min(g)\n",
    "maxg = max(g)\n",
    "norm_data1 = [(2*(val - ming) / (maxg - ming) - 1) for val in aecg]\n",
    "# for val in b:\n",
    "#     norm_val = 2*(val - min(b)) / (max(b) - min(b)) - 1\n",
    "#     norm_data.append(norm_val)\n",
    "\n",
    "norm_data = np.array(norm_data)\n",
    "norm_data1 = np.array(norm_data1)\n",
    "c = norm_data[0, :]\n",
    "d = norm_data1[0, :]\n",
    "e = c[1000:1250]\n",
    "f = d[1000:1250]\n",
    "# _, _, spec = stft(\n",
    "#     #norm_data[0, :],\n",
    "#     c,\n",
    "#     fs = 1000,\n",
    "#     window='hamming',\n",
    "#     nperseg=36,\n",
    "#     # noverlap=10,\n",
    "#     nfft=256\n",
    "# ) \n",
    "# spec = float(spec)\n",
    "figure, ax = plt.subplots(1, 2, figsize=(20, 10))\n",
    "ax[0].specgram(e, Fs=1000, cmap='rainbow')\n",
    "ax[1].specgram(f, Fs=1000, cmap='rainbow')\n",
    "# spec = spec.astype(float)\n",
    "# spec = np.abs(spec)\n",
    "# plt.imshow(spec.T)\n",
    "plt.show()"
   ]
  },
  {
   "cell_type": "code",
   "execution_count": 114,
   "metadata": {},
   "outputs": [
    {
     "data": {
      "text/plain": [
       "array([0.        , 0.01884993, 0.03769984, 0.05654972, 0.07539955,\n",
       "       0.09424932, 0.11309899, 0.13194857, 0.15079803, 0.16964736,\n",
       "       0.18849654, 0.20734555, 0.22619437, 0.245043  , 0.2638914 ,\n",
       "       0.28273958, 0.3015875 , 0.32043515, 0.33928252, 0.35812958,\n",
       "       0.37697633, 0.39582275, 0.41466881, 0.4335145 , 0.45235981,\n",
       "       0.47120472, 0.49004921, 0.50889326, 0.52773686, 0.54657999,\n",
       "       0.56542264, 0.58426479, 0.60310641, 0.6219475 , 0.64078804,\n",
       "       0.65962801, 0.67846739, 0.69730617, 0.71614433, 0.73498185,\n",
       "       0.75381872, 0.77265492, 0.79149044, 0.81032525, 0.82915934,\n",
       "       0.8479927 , 0.8668253 , 0.88565713, 0.90448818, 0.92331842,\n",
       "       0.94214784, 0.96097643, 0.97980416, 0.99863102, 1.01745699,\n",
       "       1.03628206, 1.05510621, 1.07392943, 1.09275169, 1.11157297,\n",
       "       1.13039327, 1.14921257, 1.16803084, 1.18684808, 1.20566427,\n",
       "       1.22447938, 1.2432934 , 1.26210632, 1.28091812, 1.29972878,\n",
       "       1.31853829, 1.33734663, 1.35615377, 1.37495972, 1.39376444,\n",
       "       1.41256792, 1.43137015, 1.45017111, 1.46897078, 1.48776914,\n",
       "       1.50656618, 1.52536189, 1.54415624, 1.56294922, 1.58174081,\n",
       "       1.60053099, 1.61931975, 1.63810708, 1.65689295, 1.67567734,\n",
       "       1.69446025, 1.71324165, 1.73202154, 1.75079988, 1.76957667,\n",
       "       1.78835188, 1.80712551, 1.82589753, 1.84466793, 1.86343669,\n",
       "       1.8822038 , 1.90096923, 1.91973298, 1.93849502, 1.95725534,\n",
       "       1.97601392, 1.99477074, 2.01352579, 2.03227906, 2.05103052,\n",
       "       2.06978015, 2.08852795, 2.10727389, 2.12601796, 2.14476015,\n",
       "       2.16350042, 2.18223878, 2.2009752 , 2.21970966, 2.23844215,\n",
       "       2.25717265, 2.27590114, 2.29462762, 2.31335206, 2.33207444,\n",
       "       2.35079475, 2.36951297, 2.38822909, 2.40694308, 2.42565494,\n",
       "       2.44436464, 2.46307217, 2.48177752, 2.50048065, 2.51918157,\n",
       "       2.53788025, 2.55657668, 2.57527083, 2.5939627 , 2.61265226,\n",
       "       2.6313395 , 2.65002441, 2.66870696, 2.68738714, 2.70606493,\n",
       "       2.72474032, 2.74341329, 2.76208382, 2.7807519 , 2.7994175 ,\n",
       "       2.81808062, 2.83674124, 2.85539934, 2.8740549 , 2.89270791,\n",
       "       2.91135835, 2.9300062 , 2.94865145, 2.96729408, 2.98593408,\n",
       "       3.00457142, 3.02320609, 3.04183808, 3.06046736, 3.07909393,\n",
       "       3.09771776, 3.11633884, 3.13495716, 3.15357268, 3.17218541,\n",
       "       3.19079532, 3.20940239, 3.22800661, 3.24660797, 3.26520644,\n",
       "       3.28380201, 3.30239466, 3.32098439, 3.33957116, 3.35815496,\n",
       "       3.37673578, 3.3953136 , 3.41388841, 3.43246018, 3.4510289 ,\n",
       "       3.46959456, 3.48815714, 3.50671661, 3.52527298, 3.54382621,\n",
       "       3.56237629, 3.58092321, 3.59946695, 3.61800749, 3.63654481,\n",
       "       3.65507891, 3.67360976, 3.69213734, 3.71066165, 3.72918266,\n",
       "       3.74770036, 3.76621472, 3.78472575, 3.80323341, 3.82173769,\n",
       "       3.84023858, 3.85873605, 3.8772301 , 3.89572071, 3.91420785,\n",
       "       3.93269152, 3.95117169, 3.96964835, 3.98812149, 4.00659109,\n",
       "       4.02505712, 4.04351958, 4.06197845, 4.08043371, 4.09888534,\n",
       "       4.11733334, 4.13577768, 4.15421834, 4.17265531, 4.19108858,\n",
       "       4.20951812, 4.22794393, 4.24636597, 4.26478425, 4.28319874,\n",
       "       4.30160942, 4.32001628, 4.33841931, 4.35681848, 4.37521378,\n",
       "       4.39360519, 4.4119927 , 4.4303763 , 4.44875595, 4.46713166,\n",
       "       4.48550339, 4.50387115, 4.5222349 , 4.54059463, 4.55895033,\n",
       "       4.57730198, 4.59564957, 4.61399307, 4.63233248, 4.65066776])"
      ]
     },
     "execution_count": 114,
     "metadata": {},
     "output_type": "execute_result"
    }
   ],
   "source": [
    "Time_difference = 0.0001\n",
    " \n",
    "# Generating an array of values\n",
    "Time_Array = np.linspace(0, 5, math.ceil(5 / Time_difference))\n",
    " \n",
    "# Actual data array which needs to be plot\n",
    "Data = 20*(np.sin(3 * np.pi * Time_Array))\n",
    "d = Data[:250]\n",
    "# # Matplotlib.pyplot.specgram() function to\n",
    "# # generate spectrogram\n",
    "# plt.specgram(d, Fs=1000, cmap=\"rainbow\")\n",
    " \n",
    "# # Set the title of the plot, xlabel and ylabel\n",
    "# # and display using show() function\n",
    "# plt.title('Spectrogram Using matplotlib.pyplot.specgram() Method')\n",
    "# plt.xlabel(\"DATA\")\n",
    "# plt.ylabel(\"TIME\")\n",
    "# plt.show()\n",
    "d"
   ]
  },
  {
   "cell_type": "code",
   "execution_count": 12,
   "metadata": {},
   "outputs": [
    {
     "data": {
      "text/plain": [
       "300000"
      ]
     },
     "execution_count": 12,
     "metadata": {},
     "output_type": "execute_result"
    }
   ],
   "source": [
    "fecg = (fecg - np.mean(fecg)) / np.std(fecg)\n",
    "fecg = np.clip(fecg, -1, 1)\n",
    "fecg.shape[0]"
   ]
  },
  {
   "cell_type": "code",
   "execution_count": 18,
   "metadata": {},
   "outputs": [],
   "source": [
    "sample_rate = record.info['sfreq']\n",
    "segment_length = int(0.25 * sample_rate) #250\n",
    "segment_overlap = int(0.01 * sample_rate) #10\n",
    "\n",
    "segments = []\n",
    "for i in range(0, fecg.shape[0] - segment_length, segment_length - segment_overlap):\n",
    "    segment = fecg[i:i+segment_length]\n",
    "    segments.append(segment)\n",
    "\n",
    "segments = np.array(segments)\n",
    "\n",
    "frequencies, times, stft_data = stft(\n",
    "    segments, \n",
    "    fs=sample_rate,\n",
    "    window='hamming',\n",
    "    nperseg=36,\n",
    "    noverlap=30,\n",
    "    nfft=256\n",
    ")\n",
    "\n",
    "# stft_data = np.abs(stft_data)\n",
    "# stft_data = stft_data / np.max(stft_data)"
   ]
  },
  {
   "cell_type": "code",
   "execution_count": 31,
   "metadata": {},
   "outputs": [
    {
     "data": {
      "image/png": "[encoded data removed]",
      "text/plain": [
       "<Figure size 800x600 with 2 Axes>"
      ]
     },
     "metadata": {},
     "output_type": "display_data"
    }
   ],
   "source": [
    "stft_data_magnitude = np.abs(stft_data)\n",
    "plt.figure(figsize=(8, 6))\n",
    "plt.imshow(stft_data_magnitude[4].T, aspect='auto', origin='lower')\n",
    "plt.xlabel('Time')\n",
    "plt.ylabel('Frequency')\n",
    "plt.colorbar()\n",
    "plt.show()"
   ]
  },
  {
   "cell_type": "code",
   "execution_count": 27,
   "metadata": {},
   "outputs": [
    {
     "data": {
      "image/png": "[encoded data removed]",
      "text/plain": [
       "<Figure size 640x480 with 2 Axes>"
      ]
     },
     "metadata": {},
     "output_type": "display_data"
    }
   ],
   "source": [
    "def plot_spectrogram(signal, sample_rate, window_length, hop_length, fft_size, output_shape):\n",
    "    frequencies, times, spectrogram = stft(signal, fs=sample_rate, window='hamming', nperseg=window_length, noverlap=window_length-hop_length, nfft=fft_size)\n",
    "    spectrogram = np.abs(spectrogram)\n",
    "    spectrogram = spectrogram / np.max(spectrogram)\n",
    "    spectrogram = 10 * np.log10(spectrogram + 1e-10)\n",
    "    spectrogram = cv2.resize(spectrogram, output_shape, interpolation=cv2.INTER_LINEAR)\n",
    "    spectrogram = (spectrogram - np.min(spectrogram)) / (np.max(spectrogram) - np.min(spectrogram))\n",
    "    spectrogram = 1 - spectrogram\n",
    "    return spectrogram\n",
    "\n",
    "window_length = 64 # Hamming window of length 64\n",
    "hop_length = 32 # Hop size of 32\n",
    "fft_size = 256\n",
    "\n",
    "spectrogram = plot_spectrogram(fecg, sample_rate, window_length, hop_length, fft_size, output_shape=(128, 40))\n",
    "plt.imshow(spectrogram, cmap='jet')\n",
    "plt.axis('off')\n",
    "plt.colorbar()\n",
    "plt.show()"
   ]
  },
  {
   "cell_type": "code",
   "execution_count": 62,
   "metadata": {},
   "outputs": [],
   "source": [
    "class ECGDataset:\n",
    "    def __init__(self, data_dir, img_dir):\n",
    "        self.data_dir = data_dir\n",
    "        self.img_dir = img_dir\n",
    "        self.fs = 1000  # Sampling frequency\n",
    "        self.nperseg = 36  # Window size for STFT\n",
    "        self.nfft = 256  # FFT size for STFT\n",
    "        self.noverlap = self.nperseg - 6  # Hop size for STFT\n",
    "        self.freq_range = (0, 40)  # Frequency range to plot in spectrogram\n",
    "        self.normalize = True  # Whether to normalize data to [-1, 1]\n",
    "        self.ecg_files = [f for f in os.listdir(data_dir) if f.endswith('.edf')]\n",
    "        self.n_files = len(self.ecg_files)\n",
    "        self.ecg_data = []\n",
    "        self.fetal_data = []\n",
    "        self.n_segments = []\n",
    "        \n",
    "    def load_data(self):\n",
    "        # Load ECG and fetal ECG data from files\n",
    "        for i, file in enumerate(self.ecg_files):\n",
    "            raw = mne.io.read_raw_edf(os.path.join(self.data_dir, file))\n",
    "            raw_data = raw.get_data()\n",
    "            n = raw_data.shape[0]\n",
    "            fetal_data = raw_data[0, :]\n",
    "            ecg_data = raw_data[1:n, :]\n",
    "            if self.normalize:\n",
    "                ecg_data = 2 * (ecg_data - np.min(ecg_data)) / (np.max(ecg_data) - np.min(ecg_data)) - 1\n",
    "                fetal_data = 2 * (fetal_data - np.min(fetal_data)) / (np.max(fetal_data) - np.min(fetal_data)) - 1\n",
    "            self.ecg_data.append(ecg_data)\n",
    "            self.fetal_data.append(fetal_data)\n",
    "            self.n_segments.append(ecg_data.shape[1] // (self.fs // 4))  # Divide by quarter of a second\n",
    "        self.ecg_data = np.concatenate(self.ecg_data, axis=1)\n",
    "        self.fetal_data = np.concatenate(self.fetal_data)\n",
    "        # return self.ecg, self.fecg\n",
    "    def compute_stft(self, signal):\n",
    "        f, t, Zxx = stft(signal, fs=self.fs, window='hamming', nperseg=self.nperseg, noverlap=self.noverlap, nfft=self.nfft)\n",
    "        Zxx = np.abs(Zxx)\n",
    "        Zxx = Zxx / np.max(Zxx)  # Normalize to [0, 1]\n",
    "        # Zxx = Zxx[:, (f >= self.freq_range[0]) & (f <= self.freq_range[1])]  # Only keep frequencies in freq_range\n",
    "        return Zxx\n",
    "    \n",
    "    def create_spectrograms(self):\n",
    "    # Compute STFT and create spectrograms for each segment of each ECG signal\n",
    "        self.spectrograms = []\n",
    "        for i, file in enumerate(self.ecg_files):\n",
    "            ecg_data = self.ecg_data[:, i*self.n_segments[i]*self.fs//4:(i+1)*self.n_segments[i]*self.fs//4]\n",
    "            fetal_data = self.fetal_data[i*self.n_segments[i]*self.fs//4:(i+1)*self.n_segments[i]*self.fs//4]\n",
    "            for j in range(self.n_segments[i]):\n",
    "                ecg_seg = ecg_data[:, j*self.fs//4:(j+1)*self.fs//4]\n",
    "                fetal_seg = fetal_data[j*self.fs//4:(j+1)*self.fs//4]\n",
    "                ecg_spectrogram = self.compute_stft(ecg_seg)\n",
    "                fetal_spectrogram = self.compute_stft(fetal_seg)\n",
    "                # Create figure and plot spectrograms\n",
    "                fig, axs = plt.subplots(2, 1, figsize=(6, 6))\n",
    "                axs[0].imshow(ecg_spectrogram.T, origin='lower')\n",
    "                axs[1].imshow(fetal_spectrogram.T, origin='lower')\n",
    "                # Remove axis labels and ticks\n",
    "                for ax in axs:\n",
    "                    ax.set_xticks([])\n",
    "                    ax.set_yticks([])\n",
    "                    ax.set_xticklabels([])\n",
    "                    ax.set_yticklabels([])\n",
    "                # Save figure as PNG image\n",
    "                img_filename = os.path.join(self.img_dir, file[:-4] + f\"fecg_segment{j:03d}.png\")\n",
    "                plt.savefig(img_filename, bbox_inches='tight')\n",
    "                plt.close()\n",
    "                # Append image filename to list\n",
    "                self.spectrograms.append(img_filename)\n",
    "\n",
    "    # def create_spectrograms(self, segment_duration=0.25, hop_size=6, window_size=36, fft_size=256):\n",
    "    #     # Compute the number of frames per segment\n",
    "    #     ecg, fecg = self.load_data()\n",
    "    #     n_frames = int((segment_duration * self.fs - window_size) // hop_size + 1)\n",
    "        \n",
    "    #     # Initialize an empty list to store the spectrogram images\n",
    "    #     fecg_spectrograms = []\n",
    "    #     ecg_spectrograms = []\n",
    "        \n",
    "    #     # Loop over the data segments and compute the spectrogram for each segment\n",
    "        \n",
    "    #     for i in range(data.n_times // (segment_duration * self.fs)):\n",
    "    #         # Extract the segment of data\n",
    "    #         segment = data[:, i * n_frames * hop_size : (i+1) * n_frames * hop_size]\n",
    "            \n",
    "    #         # Compute the STFT for the segment\n",
    "    #         f, t, Zxx = stft(segment, fs=data.info['sfreq'], window='hamming', nperseg=window_size, noverlap=window_size-hop_size, nfft=fft_size)\n",
    "            \n",
    "    #         # Convert the magnitude spectrogram to dB scale\n",
    "    #         Zxx = librosa.amplitude_to_db(np.abs(Zxx), ref=np.max)\n",
    "            \n",
    "    #         # Normalize the spectrogram to [0, 1]\n",
    "    #         Zxx = (Zxx - np.min(Zxx)) / (np.max(Zxx) - np.min(Zxx))\n",
    "            \n",
    "    #         # Rescale the spectrogram to 0-255 and convert to uint8\n",
    "    #         Zxx = (Zxx * 255).astype(np.uint8)\n",
    "            \n",
    "    #         # Apply the colormap to create a color image\n",
    "    #         colormap = plt.get_cmap('inferno')\n",
    "    #         Zxx_color = colormap(Zxx)[:,:,:3] # Take only RGB channels\n",
    "            \n",
    "    #         # Create a PIL image from the spectrogram and append it to the list\n",
    "    #         spectrogram_image = Image.fromarray(np.uint8(Zxx_color))\n",
    "    #         spectrograms.append(spectrogram_image)\n",
    "        \n",
    "    #     # Return the list of spectrogram images\n",
    "    #     return spectrograms\n",
    "\n"
   ]
  },
  {
   "cell_type": "code",
   "execution_count": 63,
   "metadata": {},
   "outputs": [
    {
     "name": "stdout",
     "output_type": "stream",
     "text": [
      "Extracting EDF parameters from /Users/vuongnguyen/Documents/Papers/FetalECG/Code/fECG_GAN/data/abdominal-and-direct-fetal-ecg-database-1.0.0/r01.edf...\n",
      "EDF file detected\n",
      "Setting channel info structure...\n",
      "Creating raw.info structure...\n",
      "Extracting EDF parameters from /Users/vuongnguyen/Documents/Papers/FetalECG/Code/fECG_GAN/data/abdominal-and-direct-fetal-ecg-database-1.0.0/r10.edf...\n",
      "EDF file detected\n",
      "Setting channel info structure...\n",
      "Creating raw.info structure...\n",
      "Extracting EDF parameters from /Users/vuongnguyen/Documents/Papers/FetalECG/Code/fECG_GAN/data/abdominal-and-direct-fetal-ecg-database-1.0.0/r04.edf...\n",
      "EDF file detected\n",
      "Setting channel info structure...\n",
      "Creating raw.info structure...\n",
      "Extracting EDF parameters from /Users/vuongnguyen/Documents/Papers/FetalECG/Code/fECG_GAN/data/abdominal-and-direct-fetal-ecg-database-1.0.0/r07.edf...\n",
      "EDF file detected\n",
      "Setting channel info structure...\n",
      "Creating raw.info structure...\n",
      "Extracting EDF parameters from /Users/vuongnguyen/Documents/Papers/FetalECG/Code/fECG_GAN/data/abdominal-and-direct-fetal-ecg-database-1.0.0/r08.edf...\n",
      "EDF file detected\n",
      "Setting channel info structure...\n",
      "Creating raw.info structure...\n"
     ]
    }
   ],
   "source": [
    "data_dir = 'data/abdominal-and-direct-fetal-ecg-database-1.0.0/'\n",
    "img_dir = 'data/spectrograms_adfecg/'\n",
    "adecg = ECGDataset(data_dir=data_dir, img_dir=img_dir)\n",
    "adecg.load_data()\n",
    "adecg.create_spectrograms()"
   ]
  }
 ],
 "metadata": {
  "kernelspec": {
   "display_name": "fecg",
   "language": "python",
   "name": "python3"
  },
  "language_info": {
   "codemirror_mode": {
    "name": "ipython",
    "version": 3
   },
   "file_extension": ".py",
   "mimetype": "text/x-python",
   "name": "python",
   "nbconvert_exporter": "python",
   "pygments_lexer": "ipython3",
   "version": "3.10.9"
  },
  "orig_nbformat": 4,
  "vscode": {
   "interpreter": {
    "hash": "93c0ec5017f1ad60f401db040b1a29638d2a1cbaa101702c762beeff9a62a670"
   }
  }
 },
 "nbformat": 4,
 "nbformat_minor": 2
}
